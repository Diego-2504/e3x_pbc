{
 "cells": [
  {
   "cell_type": "markdown",
   "id": "b4bf06dd",
   "metadata": {},
   "source": [
    "### Pequeña visualización de la dinámica molecular de grafeno"
   ]
  },
  {
   "cell_type": "code",
   "execution_count": 1,
   "id": "3a5775f2",
   "metadata": {},
   "outputs": [],
   "source": [
    "import numpy as np\n",
    "from ase import Atoms\n",
    "from ase.io import read\n",
    "from ase.io import write\n",
    "from ase.build import molecule\n",
    "from ase.visualize import view"
   ]
  },
  {
   "cell_type": "markdown",
   "id": "97c17df1",
   "metadata": {},
   "source": [
    "#### Info del dataset"
   ]
  },
  {
   "cell_type": "code",
   "execution_count": 3,
   "id": "b2b2d030",
   "metadata": {},
   "outputs": [
    {
     "name": "stdout",
     "output_type": "stream",
     "text": [
      "El shape de la energía es: (4231, 1)\n",
      "El shape de la fuerza es: (4231, 98, 3)\n",
      "El shape de las posiciones es: (4231, 98, 3)\n"
     ]
    }
   ],
   "source": [
    "dataset = np.load('Graphene_7x7_MD.DFT.MD.500K.PBE.SuperCell_7x7.01.DATA4231.npz')\n",
    "dataset.files\n",
    "E, F, R = dataset['E'], dataset['F'], dataset['R']\n",
    "\n",
    "print('El shape de la energía es:', E.shape)\n",
    "print('El shape de la fuerza es:', F.shape)\n",
    "print('El shape de las posiciones es:', R.shape)"
   ]
  },
  {
   "cell_type": "markdown",
   "id": "7bc75713",
   "metadata": {},
   "source": [
    "### Escribiendo un pequeño archivo xyz"
   ]
  },
  {
   "cell_type": "code",
   "execution_count": null,
   "id": "aa07fa1a",
   "metadata": {},
   "outputs": [],
   "source": [
    "structures_graphene = []\n",
    "\n",
    "# Crear estructuras Atoms para cada instante de tiempo\n",
    "# Desde el tiempo t hasta el range\n",
    "t = 1000\n",
    "for t in range(100):\n",
    "    positions = R[t]\n",
    "    # print(positions.shape)\n",
    "    # Haciendo un objeto atoms de ase con los datos\n",
    "    P_DM_graph = Atoms('C98', positions=positions, pbc=True)  \n",
    "    structures_graphene.append(P_DM_graph)\n",
    "\n",
    "# Guardar y/o visualizar la dinámica molecular\n",
    "#write('trajectory_graph.xyz', structures_graphene)"
   ]
  }
 ],
 "metadata": {
  "kernelspec": {
   "display_name": "Python 3 (ipykernel)",
   "language": "python",
   "name": "python3"
  },
  "language_info": {
   "codemirror_mode": {
    "name": "ipython",
    "version": 3
   },
   "file_extension": ".py",
   "mimetype": "text/x-python",
   "name": "python",
   "nbconvert_exporter": "python",
   "pygments_lexer": "ipython3",
   "version": "3.9.13"
  }
 },
 "nbformat": 4,
 "nbformat_minor": 5
}
